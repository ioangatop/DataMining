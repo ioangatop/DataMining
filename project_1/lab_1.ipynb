{
 "cells": [
  {
   "cell_type": "markdown",
   "metadata": {},
   "source": [
    "# Data Mining\n",
    "# Assignment 1 - Advanced"
   ]
  },
  {
   "cell_type": "markdown",
   "metadata": {},
   "source": [
    "## 1 - Manage the Data"
   ]
  },
  {
   "cell_type": "code",
   "execution_count": 1,
   "metadata": {},
   "outputs": [],
   "source": [
    "# Import libraries\n",
    "import pandas as pd\n",
    "import numpy as np\n",
    "import matplotlib.pyplot as plt\n",
    "%matplotlib inline "
   ]
  },
  {
   "cell_type": "code",
   "execution_count": 2,
   "metadata": {},
   "outputs": [
    {
     "data": {
      "text/html": [
       "<div>\n",
       "<style scoped>\n",
       "    .dataframe tbody tr th:only-of-type {\n",
       "        vertical-align: middle;\n",
       "    }\n",
       "\n",
       "    .dataframe tbody tr th {\n",
       "        vertical-align: top;\n",
       "    }\n",
       "\n",
       "    .dataframe thead th {\n",
       "        text-align: right;\n",
       "    }\n",
       "</style>\n",
       "<table border=\"1\" class=\"dataframe\">\n",
       "  <thead>\n",
       "    <tr style=\"text-align: right;\">\n",
       "      <th></th>\n",
       "      <th>id</th>\n",
       "      <th>date</th>\n",
       "      <th>time</th>\n",
       "      <th>variable</th>\n",
       "      <th>value</th>\n",
       "    </tr>\n",
       "  </thead>\n",
       "  <tbody>\n",
       "    <tr>\n",
       "      <th>0</th>\n",
       "      <td>AS14.01</td>\n",
       "      <td>2014-02-26</td>\n",
       "      <td>13:00:00</td>\n",
       "      <td>mood</td>\n",
       "      <td>6.0</td>\n",
       "    </tr>\n",
       "    <tr>\n",
       "      <th>1</th>\n",
       "      <td>AS14.01</td>\n",
       "      <td>2014-02-26</td>\n",
       "      <td>15:00:00</td>\n",
       "      <td>mood</td>\n",
       "      <td>6.0</td>\n",
       "    </tr>\n",
       "    <tr>\n",
       "      <th>2</th>\n",
       "      <td>AS14.01</td>\n",
       "      <td>2014-02-26</td>\n",
       "      <td>18:00:00</td>\n",
       "      <td>mood</td>\n",
       "      <td>6.0</td>\n",
       "    </tr>\n",
       "    <tr>\n",
       "      <th>3</th>\n",
       "      <td>AS14.01</td>\n",
       "      <td>2014-02-26</td>\n",
       "      <td>21:00:00</td>\n",
       "      <td>mood</td>\n",
       "      <td>7.0</td>\n",
       "    </tr>\n",
       "    <tr>\n",
       "      <th>4</th>\n",
       "      <td>AS14.01</td>\n",
       "      <td>2014-02-27</td>\n",
       "      <td>09:00:00</td>\n",
       "      <td>mood</td>\n",
       "      <td>6.0</td>\n",
       "    </tr>\n",
       "  </tbody>\n",
       "</table>\n",
       "</div>"
      ],
      "text/plain": [
       "        id       date      time variable  value\n",
       "0  AS14.01 2014-02-26  13:00:00     mood    6.0\n",
       "1  AS14.01 2014-02-26  15:00:00     mood    6.0\n",
       "2  AS14.01 2014-02-26  18:00:00     mood    6.0\n",
       "3  AS14.01 2014-02-26  21:00:00     mood    7.0\n",
       "4  AS14.01 2014-02-27  09:00:00     mood    6.0"
      ]
     },
     "metadata": {},
     "output_type": "display_data"
    }
   ],
   "source": [
    "### Import data \n",
    "df = pd.read_csv(\"dataset_mood_smartphone.csv\", parse_dates=['time'])\n",
    "\n",
    "# drop weird column (created by pandas)\n",
    "del df['Unnamed: 0']\n",
    "\n",
    "# Replace 'full date'('time') with date and time columns\n",
    "df = df.rename(index=str, columns={\"time\": \"full date\"})\n",
    "df.insert(2, 'date', [d.date() for d in df['full date']])\n",
    "df['date'] = pd.to_datetime(df['date'])  \n",
    "df.insert(3, 'time', [d.time() for d in df['full date']])\n",
    "del df['full date']\n",
    "\n",
    "display(df.head())\n",
    "# # Creating a Database\n",
    "# # all_dates = list(df['date'])\n",
    "# all_patients = list(df['id'])\n",
    "\n",
    "# for patient in ['AS14.01']:\n",
    "# #     all_dates = list(df[df['id'] == patient]['date'])\n",
    "# # #     patient_dates = patient['date']c\n",
    "# # #     all_dates_patient = list(df['date'])\n",
    "#     for date in ['2014-04-01']:\n",
    "#         patient = df[df['id'] == patient]\n",
    "#         patient_date_df = patient[patient['date']==date].sort_values(by=['date', 'time'], ascending=[True, True])\n",
    "\n",
    "# display(patient_date_df)"
   ]
  },
  {
   "cell_type": "markdown",
   "metadata": {},
   "source": [
    "### Statistics of the data"
   ]
  },
  {
   "cell_type": "code",
   "execution_count": 3,
   "metadata": {},
   "outputs": [
    {
     "name": "stdout",
     "output_type": "stream",
     "text": [
      "* Data shape: (376912, 5)\n",
      "\n",
      "* 'id': \n",
      "count      376912\n",
      "unique         27\n",
      "top       AS14.01\n",
      "freq        21999\n",
      "Name: id, dtype: object\n",
      " \n",
      "\n",
      "* 'date': \n",
      "count                  376912\n",
      "unique                    113\n",
      "top       2014-04-22 00:00:00\n",
      "freq                     9615\n",
      "first     2014-02-17 00:00:00\n",
      "last      2014-06-09 00:00:00\n",
      "Name: date, dtype: object\n",
      " \n",
      "\n",
      "* 'variable': \n",
      "count     376912\n",
      "unique        19\n",
      "top       screen\n",
      "freq       96578\n",
      "Name: variable, dtype: object\n",
      " \n",
      "\n",
      "* 'value': \n",
      "count    376710.000000\n",
      "mean         40.665313\n",
      "std         273.726007\n",
      "min      -82798.871000\n",
      "25%           2.025000\n",
      "50%           7.029000\n",
      "75%          29.356000\n",
      "max       33960.246000\n",
      "Name: value, dtype: float64\n",
      " \n"
     ]
    }
   ],
   "source": [
    "# Take a look at the number of data\n",
    "print(\"* Data shape: {}\\n\".format(df.shape))\n",
    "\n",
    "# Let's take a look at the statistics of the variables \n",
    "print(\"* 'id': \\n{}\\n \".format(df['id'].describe()))\n",
    "print(\"\\n* 'date': \\n{}\\n \".format(df['date'].describe()))\n",
    "print(\"\\n* 'variable': \\n{}\\n \".format(df['variable'].describe()))\n",
    "print(\"\\n* 'value': \\n{}\\n \".format(df['value'].describe()))"
   ]
  },
  {
   "cell_type": "markdown",
   "metadata": {},
   "source": [
    "### Missing Data"
   ]
  },
  {
   "cell_type": "code",
   "execution_count": 4,
   "metadata": {},
   "outputs": [
    {
     "name": "stdout",
     "output_type": "stream",
     "text": [
      "There are 202 NaN values.\n",
      "\n",
      "id          False\n",
      "date        False\n",
      "time        False\n",
      "variable    False\n",
      "value        True\n",
      "dtype: bool\n",
      "\n",
      " Because the NaN are <0.1%, we drop them.\n"
     ]
    }
   ],
   "source": [
    "# Check if there are any null values\n",
    "nan_val = df.isnull().sum().sum()\n",
    "if nan_val>0:\n",
    "    print(\"There are {} NaN values.\\n\".format(nan_val))\n",
    "    print(df.isnull().any())\n",
    "    if nan_val<0.01*df.shape[0]:\n",
    "        # Because it is a low number (less than 1% of the data), \n",
    "        # we can drop them.\n",
    "        df = df.dropna()\n",
    "        print(\"\\n Because the NaN are <0.1%, we drop them.\")\n",
    "else:\n",
    "    print(\"There is not any NaN values\")"
   ]
  },
  {
   "cell_type": "markdown",
   "metadata": {},
   "source": [
    "### Finding Outliers"
   ]
  },
  {
   "cell_type": "code",
   "execution_count": 5,
   "metadata": {
    "scrolled": true
   },
   "outputs": [
    {
     "data": {
      "image/png": "[encoded data removed]",
      "text/plain": [
       "<Figure size 432x288 with 1 Axes>"
      ]
     },
     "metadata": {
      "needs_background": "light"
     },
     "output_type": "display_data"
    },
    {
     "data": {
      "image/png": "[encoded data removed]",
      "text/plain": [
       "<Figure size 432x288 with 1 Axes>"
      ]
     },
     "metadata": {
      "needs_background": "light"
     },
     "output_type": "display_data"
    },
    {
     "data": {
      "image/png": "[encoded data removed]",
      "text/plain": [
       "<Figure size 432x288 with 1 Axes>"
      ]
     },
     "metadata": {
      "needs_background": "light"
     },
     "output_type": "display_data"
    },
    {
     "data": {
      "image/png": "[encoded data removed]",
      "text/plain": [
       "<Figure size 432x288 with 1 Axes>"
      ]
     },
     "metadata": {
      "needs_background": "light"
     },
     "output_type": "display_data"
    },
    {
     "data": {
      "image/png": "[encoded data removed]",
      "text/plain": [
       "<Figure size 432x288 with 1 Axes>"
      ]
     },
     "metadata": {
      "needs_background": "light"
     },
     "output_type": "display_data"
    },
    {
     "data": {
      "image/png": "[encoded data removed]",
      "text/plain": [
       "<Figure size 432x288 with 1 Axes>"
      ]
     },
     "metadata": {
      "needs_background": "light"
     },
     "output_type": "display_data"
    },
    {
     "data": {
      "image/png": "[encoded data removed]",
      "text/plain": [
       "<Figure size 432x288 with 1 Axes>"
      ]
     },
     "metadata": {
      "needs_background": "light"
     },
     "output_type": "display_data"
    },
    {
     "data": {
      "image/png": "[encoded data removed]",
      "text/plain": [
       "<Figure size 432x288 with 1 Axes>"
      ]
     },
     "metadata": {
      "needs_background": "light"
     },
     "output_type": "display_data"
    },
    {
     "data": {
      "image/png": "[encoded data removed]",
      "text/plain": [
       "<Figure size 432x288 with 1 Axes>"
      ]
     },
     "metadata": {
      "needs_background": "light"
     },
     "output_type": "display_data"
    },
    {
     "data": {
      "image/png": "[encoded data removed]",
      "text/plain": [
       "<Figure size 432x288 with 1 Axes>"
      ]
     },
     "metadata": {
      "needs_background": "light"
     },
     "output_type": "display_data"
    },
    {
     "data": {
      "image/png": "[encoded data removed]",
      "text/plain": [
       "<Figure size 432x288 with 1 Axes>"
      ]
     },
     "metadata": {
      "needs_background": "light"
     },
     "output_type": "display_data"
    },
    {
     "data": {
      "image/png": "[encoded data removed]",
      "text/plain": [
       "<Figure size 432x288 with 1 Axes>"
      ]
     },
     "metadata": {
      "needs_background": "light"
     },
     "output_type": "display_data"
    },
    {
     "data": {
      "image/png": "[encoded data removed]",
      "text/plain": [
       "<Figure size 432x288 with 1 Axes>"
      ]
     },
     "metadata": {
      "needs_background": "light"
     },
     "output_type": "display_data"
    },
    {
     "data": {
      "image/png": "[encoded data removed]",
      "text/plain": [
       "<Figure size 432x288 with 1 Axes>"
      ]
     },
     "metadata": {
      "needs_background": "light"
     },
     "output_type": "display_data"
    },
    {
     "data": {
      "image/png": "[encoded data removed]",
      "text/plain": [
       "<Figure size 432x288 with 1 Axes>"
      ]
     },
     "metadata": {
      "needs_background": "light"
     },
     "output_type": "display_data"
    },
    {
     "data": {
      "image/png": "[encoded data removed]",
      "text/plain": [
       "<Figure size 432x288 with 1 Axes>"
      ]
     },
     "metadata": {
      "needs_background": "light"
     },
     "output_type": "display_data"
    },
    {
     "data": {
      "image/png": "[encoded data removed]",
      "text/plain": [
       "<Figure size 432x288 with 1 Axes>"
      ]
     },
     "metadata": {
      "needs_background": "light"
     },
     "output_type": "display_data"
    },
    {
     "data": {
      "image/png": "[encoded data removed]",
      "text/plain": [
       "<Figure size 432x288 with 1 Axes>"
      ]
     },
     "metadata": {
      "needs_background": "light"
     },
     "output_type": "display_data"
    },
    {
     "data": {
      "image/png": "[encoded data removed]",
      "text/plain": [
       "<Figure size 432x288 with 1 Axes>"
      ]
     },
     "metadata": {
      "needs_background": "light"
     },
     "output_type": "display_data"
    }
   ],
   "source": [
    "Q1, Q3, IQR, min_value, max_value  = {}, {}, {}, {}, {}\n",
    "df_variable = {}\n",
    "\n",
    "# Get all categories\n",
    "categories = list(df['variable'].unique())\n",
    "for variable in categories:\n",
    "    # Creat a new dataframe for ever variable\n",
    "    df_variable[variable] = df[df['variable'] == variable][['value']]\n",
    "    n_values = df_variable[variable].shape[0]\n",
    "    \n",
    "    # Calculate the first quartile of the population values\n",
    "    Q1[variable] = df_variable[variable].quantile(0.25)\n",
    "    # Calculate the third quartile of the population values\n",
    "    Q3[variable] = df_variable[variable].quantile(0.75)\n",
    "    # Calculate the interquartile range Q3 - Q1\n",
    "    IQR[variable] = Q3[variable] - Q1[variable]\n",
    "    \n",
    "    # Calculate the maximum value and minimum values according to the Tukey rule\n",
    "    max_value[variable] = Q3[variable] + 1.5 * IQR[variable]\n",
    "    min_value[variable] = Q1[variable] - 1.5 * IQR[variable]\n",
    "    \n",
    "    # Plot the boxplot of the values to spot the outliers\n",
    "    ttl = variable + \": \" + str(n_values) + \" values\"\n",
    "    df_variable[variable][0:n_values].plot(kind='box', title=ttl);"
   ]
  },
  {
   "cell_type": "code",
   "execution_count": 6,
   "metadata": {},
   "outputs": [],
   "source": [
    "# Filter the data for values that are greater than max_value \n",
    "# or less than min_value for each variable\n",
    "variable_outliers, max_outliers, max_outliers, min_outliers  = {}, {}, {}, {}\n",
    "for variable in categories:\n",
    "    max_outliers[variable] = df[df['variable'] == variable]['value'] > max_value[variable].item()\n",
    "    min_outliers[variable] = df[df['variable'] == variable]['value'] < min_value[variable].item()\n",
    "    variable_outliers[variable] = df[df['variable'] == variable][(max_outliers[variable])|(min_outliers[variable])]"
   ]
  },
  {
   "cell_type": "code",
   "execution_count": 7,
   "metadata": {},
   "outputs": [],
   "source": [
    "# Many of these aren't countries at all but rather aggregates of various countries. \n",
    "# Notice as well that the min_value calculated above was negative. According to \n",
    "# the Tukey rule, there are no minimum population outliers in this data set. If you \n",
    "# were going to study how population and gdp correlate, you might want to remove these \n",
    "# aggregated regions from the data set.\n",
    "\n",
    "# Find variables outliers that are in both the mood and any other\n",
    "two_val_outliers = {}\n",
    "for v1 in categories:\n",
    "    for v2 in categories:\n",
    "        if v1 != v2:\n",
    "            two_val_outliers[v1+str('-')+v2] = list(set(variable_outliers[v1].index).intersection(variable_outliers[v2].index))"
   ]
  },
  {
   "cell_type": "code",
   "execution_count": 8,
   "metadata": {},
   "outputs": [
    {
     "data": {
      "text/plain": [
       "['mood-circumplex.arousal',\n",
       " 'mood-circumplex.valence',\n",
       " 'mood-activity',\n",
       " 'mood-screen',\n",
       " 'mood-call']"
      ]
     },
     "execution_count": 8,
     "metadata": {},
     "output_type": "execute_result"
    }
   ],
   "source": [
    "# The style that they were stored\n",
    "[*two_val_outliers.keys()][0:5]"
   ]
  },
  {
   "cell_type": "code",
   "execution_count": 9,
   "metadata": {},
   "outputs": [],
   "source": [
    "df_outlier_removed = df.copy()\n",
    "\n",
    "variable_outliers, max_outliers, max_outliers, min_outliers  = {}, {}, {}, {}\n",
    "for variable in categories:\n",
    "    max_outliers[variable] = df[df['variable'] == variable]['value'] > max_value[variable].item()\n",
    "    min_outliers[variable] = df[df['variable'] == variable]['value'] < min_value[variable].item()\n",
    "    variable_outliers[variable] = df[df['variable'] == variable][(max_outliers[variable]) & (min_outliers[variable])]\n",
    "    df_outlier_removed[variable_outliers[variable]]"
   ]
  },
  {
   "cell_type": "code",
   "execution_count": 10,
   "metadata": {},
   "outputs": [
    {
     "name": "stdout",
     "output_type": "stream",
     "text": [
      "There are no outliers\n"
     ]
    }
   ],
   "source": [
    "if df.shape[0] == df_outlier_removed.shape[0]:\n",
    "    print('There are no outliers')"
   ]
  },
  {
   "cell_type": "code",
   "execution_count": null,
   "metadata": {},
   "outputs": [
    {
     "name": "stderr",
     "output_type": "stream",
     "text": [
      "ERROR:root:Invalid alias: The name clear can't be aliased because it is another magic command.\n",
      "ERROR:root:Invalid alias: The name more can't be aliased because it is another magic command.\n",
      "ERROR:root:Invalid alias: The name less can't be aliased because it is another magic command.\n",
      "ERROR:root:Invalid alias: The name man can't be aliased because it is another magic command.\n"
     ]
    }
   ],
   "source": [
    "# x = list(df_variable['mood'])\n",
    "# y = list(df_variable['screen'])\n",
    "# text = df['id']\n",
    "\n",
    "# fig, ax = plt.subplots(figsize=(15,10))\n",
    "# ax.scatter(x, y)\n",
    "# plt.title('mood vs screen')\n",
    "# plt.xlabel('mood')\n",
    "# plt.ylabel('screen')\n",
    "# for i, txt in enumerate(text):\n",
    "#     ax.annotate(txt, (x[i],y[i]))\n",
    "\n",
    "x = list(df['variable'])\n",
    "y = list(df['date'])\n",
    "text = df['id']\n",
    "\n",
    "fig, ax = plt.subplots(figsize=(15,10))\n",
    "ax.scatter(x, y)\n",
    "plt.title('mood vs date')\n",
    "plt.xlabel('mood')\n",
    "plt.ylabel('date')\n",
    "for i, txt in enumerate(text):\n",
    "    ax.annotate(txt, (x[i],y[i]))"
   ]
  },
  {
   "cell_type": "code",
   "execution_count": 37,
   "metadata": {},
   "outputs": [],
   "source": [
    "# x = list(df_variable['mood'].values)\n",
    "# y = list(df_variable['screen'].values)\n",
    "# text = df['id']\n",
    "\n",
    "# fig, ax = plt.subplots(figsize=(15,10))\n",
    "# ax.scatter(x, y)\n",
    "# plt.title('mood vs screen')\n",
    "# plt.xlabel('mood')\n",
    "# plt.ylabel('screen')\n",
    "# for i, txt in enumerate(text):\n",
    "#     ax.annotate(txt, (x[i],y[i]))"
   ]
  },
  {
   "cell_type": "markdown",
   "metadata": {},
   "source": [
    "# Scaling Data\n",
    "\n",
    "Scaling data. The terms **standardization** and **normalization** used interchangeably when referring to feature scaling. However, these are slightly different operations. Standardization refers to scaling a set of values so that they have a mean of zero and a standard deviation of one. Normalization refers to scaling a set of values so that the range if between zero and one.\n"
   ]
  },
  {
   "cell_type": "code",
   "execution_count": 39,
   "metadata": {},
   "outputs": [],
   "source": [
    "def x_min_max(data):\n",
    "    \"\"\"\n",
    "    args: an array of data as an input \n",
    "    \n",
    "    returns: minimum and maximum of that array\n",
    "    \"\"\"\n",
    "    minimum = min(data)\n",
    "    maximum = max(data)\n",
    "    return minimum, maximum\n",
    "\n",
    "def normalize(x, x_min, x_max):\n",
    "    \"\"\"\n",
    "    Input : a single value \n",
    "    \n",
    "    Output : the normalized value\n",
    "    \"\"\"\n",
    "    return (x - x_min) / (x_max - x_min)"
   ]
  },
  {
   "cell_type": "code",
   "execution_count": 43,
   "metadata": {},
   "outputs": [
    {
     "data": {
      "text/plain": [
       "(1.0, 10.0)"
      ]
     },
     "execution_count": 43,
     "metadata": {},
     "output_type": "execute_result"
    }
   ],
   "source": [
    "x_min_max(df[df['variable'] == 'mood']['value'])"
   ]
  },
  {
   "cell_type": "code",
   "execution_count": 58,
   "metadata": {},
   "outputs": [],
   "source": [
    "class Normalizer():\n",
    "    \"\"\"\n",
    "    The normalizer class receives a dataframe as its only input for initialization\n",
    "    \"\"\"    \n",
    "    def __init__(self, dataframe):        \n",
    "        self.params = []\n",
    "\n",
    "        for column in dataframe:#.columns:\n",
    "#             self.params.append(x_min_max(dataframe[column]))\n",
    "            self.params.append(x_min_max(dataframe))\n",
    "\n",
    "\n",
    "            \n",
    "    def x_min_max(data):\n",
    "        minimum = min(data)\n",
    "        maximum = max(data)\n",
    "        return minimum, maximum\n",
    "\n",
    "    def normalize_data(self, x):\n",
    "        normalized = []\n",
    "        for i, value in enumerate(x):\n",
    "            x_max = self.params[i][1]\n",
    "            x_min = self.params[i][0]\n",
    "            normalized.append((int(x[i]) - int(x_min)) / (int(x_max) - int(x_min)))\n",
    "        return normalized"
   ]
  },
  {
   "cell_type": "code",
   "execution_count": 67,
   "metadata": {},
   "outputs": [
    {
     "ename": "KeyboardInterrupt",
     "evalue": "",
     "output_type": "error",
     "traceback": [
      "\u001b[0;31m---------------------------------------------------------------------------\u001b[0m",
      "\u001b[0;31mKeyboardInterrupt\u001b[0m                         Traceback (most recent call last)",
      "\u001b[0;32m<ipython-input-67-954c1ce367e3>\u001b[0m in \u001b[0;36m<module>\u001b[0;34m\u001b[0m\n\u001b[0;32m----> 1\u001b[0;31m \u001b[0mnorm_mood\u001b[0m \u001b[0;34m=\u001b[0m \u001b[0mNormalizer\u001b[0m\u001b[0;34m(\u001b[0m\u001b[0mdf\u001b[0m\u001b[0;34m[\u001b[0m\u001b[0mdf\u001b[0m\u001b[0;34m[\u001b[0m\u001b[0;34m'variable'\u001b[0m\u001b[0;34m]\u001b[0m \u001b[0;34m==\u001b[0m \u001b[0;34m'screen'\u001b[0m\u001b[0;34m]\u001b[0m\u001b[0;34m[\u001b[0m\u001b[0;34m'value'\u001b[0m\u001b[0;34m]\u001b[0m\u001b[0;34m)\u001b[0m\u001b[0;34m\u001b[0m\u001b[0;34m\u001b[0m\u001b[0m\n\u001b[0m\u001b[1;32m      2\u001b[0m \u001b[0mnorm_mood\u001b[0m\u001b[0;34m.\u001b[0m\u001b[0mparams\u001b[0m\u001b[0;34m\u001b[0m\u001b[0;34m\u001b[0m\u001b[0m\n",
      "\u001b[0;32m<ipython-input-58-546e48fe8cdf>\u001b[0m in \u001b[0;36m__init__\u001b[0;34m(self, dataframe)\u001b[0m\n\u001b[1;32m      8\u001b[0m         \u001b[0;32mfor\u001b[0m \u001b[0mcolumn\u001b[0m \u001b[0;32min\u001b[0m \u001b[0mdataframe\u001b[0m\u001b[0;34m:\u001b[0m\u001b[0;31m#.columns:\u001b[0m\u001b[0;34m\u001b[0m\u001b[0;34m\u001b[0m\u001b[0m\n\u001b[1;32m      9\u001b[0m \u001b[0;31m#             self.params.append(x_min_max(dataframe[column]))\u001b[0m\u001b[0;34m\u001b[0m\u001b[0;34m\u001b[0m\u001b[0;34m\u001b[0m\u001b[0m\n\u001b[0;32m---> 10\u001b[0;31m             \u001b[0mself\u001b[0m\u001b[0;34m.\u001b[0m\u001b[0mparams\u001b[0m\u001b[0;34m.\u001b[0m\u001b[0mappend\u001b[0m\u001b[0;34m(\u001b[0m\u001b[0mx_min_max\u001b[0m\u001b[0;34m(\u001b[0m\u001b[0mdataframe\u001b[0m\u001b[0;34m)\u001b[0m\u001b[0;34m)\u001b[0m\u001b[0;34m\u001b[0m\u001b[0;34m\u001b[0m\u001b[0m\n\u001b[0m\u001b[1;32m     11\u001b[0m \u001b[0;34m\u001b[0m\u001b[0m\n\u001b[1;32m     12\u001b[0m \u001b[0;34m\u001b[0m\u001b[0m\n",
      "\u001b[0;32m<ipython-input-39-73515997efbe>\u001b[0m in \u001b[0;36mx_min_max\u001b[0;34m(data)\u001b[0m\n\u001b[1;32m      5\u001b[0m     \u001b[0mreturns\u001b[0m\u001b[0;34m:\u001b[0m \u001b[0mminimum\u001b[0m \u001b[0;32mand\u001b[0m \u001b[0mmaximum\u001b[0m \u001b[0mof\u001b[0m \u001b[0mthat\u001b[0m \u001b[0marray\u001b[0m\u001b[0;34m\u001b[0m\u001b[0;34m\u001b[0m\u001b[0m\n\u001b[1;32m      6\u001b[0m     \"\"\"\n\u001b[0;32m----> 7\u001b[0;31m     \u001b[0mminimum\u001b[0m \u001b[0;34m=\u001b[0m \u001b[0mmin\u001b[0m\u001b[0;34m(\u001b[0m\u001b[0mdata\u001b[0m\u001b[0;34m)\u001b[0m\u001b[0;34m\u001b[0m\u001b[0;34m\u001b[0m\u001b[0m\n\u001b[0m\u001b[1;32m      8\u001b[0m     \u001b[0mmaximum\u001b[0m \u001b[0;34m=\u001b[0m \u001b[0mmax\u001b[0m\u001b[0;34m(\u001b[0m\u001b[0mdata\u001b[0m\u001b[0;34m)\u001b[0m\u001b[0;34m\u001b[0m\u001b[0;34m\u001b[0m\u001b[0m\n\u001b[1;32m      9\u001b[0m     \u001b[0;32mreturn\u001b[0m \u001b[0mminimum\u001b[0m\u001b[0;34m,\u001b[0m \u001b[0mmaximum\u001b[0m\u001b[0;34m\u001b[0m\u001b[0;34m\u001b[0m\u001b[0m\n",
      "\u001b[0;31mKeyboardInterrupt\u001b[0m: "
     ]
    }
   ],
   "source": [
    "norm_mood = Normalizer(df[df['variable'] == 'screen']['value'])\n",
    "norm_mood.params"
   ]
  },
  {
   "cell_type": "code",
   "execution_count": 66,
   "metadata": {},
   "outputs": [
    {
     "data": {
      "text/plain": [
       "[0.2222222222222222]"
      ]
     },
     "execution_count": 66,
     "metadata": {},
     "output_type": "execute_result"
    }
   ],
   "source": [
    "norm_mood.normalize_data([3])"
   ]
  },
  {
   "cell_type": "code",
   "execution_count": null,
   "metadata": {},
   "outputs": [],
   "source": []
  },
  {
   "cell_type": "code",
   "execution_count": null,
   "metadata": {},
   "outputs": [],
   "source": []
  },
  {
   "cell_type": "code",
   "execution_count": null,
   "metadata": {},
   "outputs": [],
   "source": []
  },
  {
   "cell_type": "code",
   "execution_count": null,
   "metadata": {},
   "outputs": [],
   "source": [
    "patient = df[df['id'] == 'AS14.30']\n",
    "patient[patient['time'] == '2014-03-20 15:00:00.000']"
   ]
  },
  {
   "cell_type": "code",
   "execution_count": null,
   "metadata": {},
   "outputs": [],
   "source": [
    "moods = df[df['variable'] == 'mood']\n",
    "unique_mood_ids = moods.groupby('id').head(1)['id']\n",
    "\n",
    "# Build target values for each user \n",
    "# TODO: extend to target values for each day per user\n",
    "targets = pd.DataFrame(columns=['IDX', 'AVG_DAY'], index=[0])\n",
    "i = 0\n",
    "\n",
    "for idx in unique_mood_ids:\n",
    "    targets.at[i, 'IDX'] = idx\n",
    "    targets.at[i, 'AVG_DAY'] = moods[moods['id'] == idx]['value'].mean()\n",
    "    i += 1\n",
    "targets.head(30)\n",
    "\n",
    "# df[df['variable'] == variable][['value']]"
   ]
  },
  {
   "cell_type": "code",
   "execution_count": null,
   "metadata": {},
   "outputs": [],
   "source": []
  },
  {
   "cell_type": "code",
   "execution_count": 209,
   "metadata": {},
   "outputs": [
    {
     "data": {
      "text/html": [
       "<div>\n",
       "<style scoped>\n",
       "    .dataframe tbody tr th:only-of-type {\n",
       "        vertical-align: middle;\n",
       "    }\n",
       "\n",
       "    .dataframe tbody tr th {\n",
       "        vertical-align: top;\n",
       "    }\n",
       "\n",
       "    .dataframe thead th {\n",
       "        text-align: right;\n",
       "    }\n",
       "</style>\n",
       "<table border=\"1\" class=\"dataframe\">\n",
       "  <thead>\n",
       "    <tr style=\"text-align: right;\">\n",
       "      <th></th>\n",
       "      <th>person_id</th>\n",
       "      <th>time_id</th>\n",
       "      <th>mood_time_id</th>\n",
       "      <th>appCat.finance</th>\n",
       "      <th>appCat.social</th>\n",
       "      <th>appCat.utilities</th>\n",
       "      <th>activity</th>\n",
       "      <th>appCat.entertainment</th>\n",
       "      <th>mood</th>\n",
       "      <th>appCat.game</th>\n",
       "      <th>...</th>\n",
       "      <th>circumplex.arousal</th>\n",
       "      <th>appCat.unknown</th>\n",
       "      <th>sms</th>\n",
       "      <th>appCat.weather</th>\n",
       "      <th>appCat.office</th>\n",
       "      <th>appCat.builtin</th>\n",
       "      <th>screen</th>\n",
       "      <th>call</th>\n",
       "      <th>circumplex.valence</th>\n",
       "      <th>appCat.communication</th>\n",
       "    </tr>\n",
       "  </thead>\n",
       "  <tbody>\n",
       "    <tr>\n",
       "      <th>0</th>\n",
       "      <td>AS14.05</td>\n",
       "      <td>2014-03-26</td>\n",
       "      <td>09:00:00</td>\n",
       "      <td>0.0</td>\n",
       "      <td>0.000</td>\n",
       "      <td>0.0</td>\n",
       "      <td>1.787337</td>\n",
       "      <td>4551.700</td>\n",
       "      <td>5.0</td>\n",
       "      <td>0.0</td>\n",
       "      <td>...</td>\n",
       "      <td>-2.0</td>\n",
       "      <td>0.000</td>\n",
       "      <td>0.0</td>\n",
       "      <td>0.0</td>\n",
       "      <td>0.0</td>\n",
       "      <td>20.080</td>\n",
       "      <td>6686.735003</td>\n",
       "      <td>0.0</td>\n",
       "      <td>0.0</td>\n",
       "      <td>821.022</td>\n",
       "    </tr>\n",
       "    <tr>\n",
       "      <th>1</th>\n",
       "      <td>AS14.05</td>\n",
       "      <td>2014-03-26</td>\n",
       "      <td>12:00:00</td>\n",
       "      <td>0.0</td>\n",
       "      <td>0.000</td>\n",
       "      <td>0.0</td>\n",
       "      <td>0.719008</td>\n",
       "      <td>156.176</td>\n",
       "      <td>6.0</td>\n",
       "      <td>0.0</td>\n",
       "      <td>...</td>\n",
       "      <td>0.0</td>\n",
       "      <td>0.000</td>\n",
       "      <td>0.0</td>\n",
       "      <td>0.0</td>\n",
       "      <td>0.0</td>\n",
       "      <td>0.000</td>\n",
       "      <td>813.028001</td>\n",
       "      <td>0.0</td>\n",
       "      <td>0.0</td>\n",
       "      <td>421.545</td>\n",
       "    </tr>\n",
       "    <tr>\n",
       "      <th>2</th>\n",
       "      <td>AS14.05</td>\n",
       "      <td>2014-03-26</td>\n",
       "      <td>15:00:00</td>\n",
       "      <td>0.0</td>\n",
       "      <td>0.000</td>\n",
       "      <td>0.0</td>\n",
       "      <td>0.674331</td>\n",
       "      <td>869.652</td>\n",
       "      <td>6.0</td>\n",
       "      <td>0.0</td>\n",
       "      <td>...</td>\n",
       "      <td>0.0</td>\n",
       "      <td>408.834</td>\n",
       "      <td>1.0</td>\n",
       "      <td>0.0</td>\n",
       "      <td>0.0</td>\n",
       "      <td>2.011</td>\n",
       "      <td>41159.061995</td>\n",
       "      <td>0.0</td>\n",
       "      <td>1.0</td>\n",
       "      <td>30831.009</td>\n",
       "    </tr>\n",
       "    <tr>\n",
       "      <th>3</th>\n",
       "      <td>AS14.05</td>\n",
       "      <td>2014-03-26</td>\n",
       "      <td>18:00:00</td>\n",
       "      <td>0.0</td>\n",
       "      <td>0.000</td>\n",
       "      <td>0.0</td>\n",
       "      <td>0.182052</td>\n",
       "      <td>28.452</td>\n",
       "      <td>5.0</td>\n",
       "      <td>0.0</td>\n",
       "      <td>...</td>\n",
       "      <td>0.0</td>\n",
       "      <td>112.296</td>\n",
       "      <td>0.0</td>\n",
       "      <td>0.0</td>\n",
       "      <td>0.0</td>\n",
       "      <td>175.954</td>\n",
       "      <td>70659.316010</td>\n",
       "      <td>0.0</td>\n",
       "      <td>0.0</td>\n",
       "      <td>87112.352</td>\n",
       "    </tr>\n",
       "    <tr>\n",
       "      <th>4</th>\n",
       "      <td>AS14.05</td>\n",
       "      <td>2014-04-15</td>\n",
       "      <td>09:00:00</td>\n",
       "      <td>0.0</td>\n",
       "      <td>724.307</td>\n",
       "      <td>0.0</td>\n",
       "      <td>0.650244</td>\n",
       "      <td>28.527</td>\n",
       "      <td>6.0</td>\n",
       "      <td>0.0</td>\n",
       "      <td>...</td>\n",
       "      <td>-2.0</td>\n",
       "      <td>0.000</td>\n",
       "      <td>0.0</td>\n",
       "      <td>0.0</td>\n",
       "      <td>0.0</td>\n",
       "      <td>14.336</td>\n",
       "      <td>6322.745000</td>\n",
       "      <td>0.0</td>\n",
       "      <td>0.0</td>\n",
       "      <td>2060.588</td>\n",
       "    </tr>\n",
       "  </tbody>\n",
       "</table>\n",
       "<p>5 rows × 22 columns</p>\n",
       "</div>"
      ],
      "text/plain": [
       "  person_id    time_id mood_time_id  appCat.finance  appCat.social  \\\n",
       "0   AS14.05 2014-03-26     09:00:00             0.0          0.000   \n",
       "1   AS14.05 2014-03-26     12:00:00             0.0          0.000   \n",
       "2   AS14.05 2014-03-26     15:00:00             0.0          0.000   \n",
       "3   AS14.05 2014-03-26     18:00:00             0.0          0.000   \n",
       "4   AS14.05 2014-04-15     09:00:00             0.0        724.307   \n",
       "\n",
       "   appCat.utilities  activity  appCat.entertainment  mood  appCat.game  ...  \\\n",
       "0               0.0  1.787337              4551.700   5.0          0.0  ...   \n",
       "1               0.0  0.719008               156.176   6.0          0.0  ...   \n",
       "2               0.0  0.674331               869.652   6.0          0.0  ...   \n",
       "3               0.0  0.182052                28.452   5.0          0.0  ...   \n",
       "4               0.0  0.650244                28.527   6.0          0.0  ...   \n",
       "\n",
       "   circumplex.arousal  appCat.unknown  sms  appCat.weather  appCat.office  \\\n",
       "0                -2.0           0.000  0.0             0.0            0.0   \n",
       "1                 0.0           0.000  0.0             0.0            0.0   \n",
       "2                 0.0         408.834  1.0             0.0            0.0   \n",
       "3                 0.0         112.296  0.0             0.0            0.0   \n",
       "4                -2.0           0.000  0.0             0.0            0.0   \n",
       "\n",
       "   appCat.builtin        screen  call  circumplex.valence  \\\n",
       "0          20.080   6686.735003   0.0                 0.0   \n",
       "1           0.000    813.028001   0.0                 0.0   \n",
       "2           2.011  41159.061995   0.0                 1.0   \n",
       "3         175.954  70659.316010   0.0                 0.0   \n",
       "4          14.336   6322.745000   0.0                 0.0   \n",
       "\n",
       "   appCat.communication  \n",
       "0               821.022  \n",
       "1               421.545  \n",
       "2             30831.009  \n",
       "3             87112.352  \n",
       "4              2060.588  \n",
       "\n",
       "[5 rows x 22 columns]"
      ]
     },
     "metadata": {},
     "output_type": "display_data"
    }
   ],
   "source": [
    "df = pd.read_csv(\"processed_raw_all_data.csv\", parse_dates=['time_id'])\n",
    "del df['Unnamed: 0']\n",
    "\n",
    "display(df.head())"
   ]
  },
  {
   "cell_type": "code",
   "execution_count": 210,
   "metadata": {},
   "outputs": [
    {
     "data": {
      "text/html": [
       "<div>\n",
       "<style scoped>\n",
       "    .dataframe tbody tr th:only-of-type {\n",
       "        vertical-align: middle;\n",
       "    }\n",
       "\n",
       "    .dataframe tbody tr th {\n",
       "        vertical-align: top;\n",
       "    }\n",
       "\n",
       "    .dataframe thead th {\n",
       "        text-align: right;\n",
       "    }\n",
       "</style>\n",
       "<table border=\"1\" class=\"dataframe\">\n",
       "  <thead>\n",
       "    <tr style=\"text-align: right;\">\n",
       "      <th></th>\n",
       "      <th>person_id</th>\n",
       "      <th>time_id</th>\n",
       "      <th>mood_time_id</th>\n",
       "      <th>appCat.finance</th>\n",
       "      <th>appCat.social</th>\n",
       "      <th>appCat.utilities</th>\n",
       "      <th>activity</th>\n",
       "      <th>appCat.entertainment</th>\n",
       "      <th>mood</th>\n",
       "      <th>appCat.game</th>\n",
       "      <th>...</th>\n",
       "      <th>circumplex.arousal</th>\n",
       "      <th>appCat.unknown</th>\n",
       "      <th>sms</th>\n",
       "      <th>appCat.weather</th>\n",
       "      <th>appCat.office</th>\n",
       "      <th>appCat.builtin</th>\n",
       "      <th>screen</th>\n",
       "      <th>call</th>\n",
       "      <th>circumplex.valence</th>\n",
       "      <th>appCat.communication</th>\n",
       "    </tr>\n",
       "  </thead>\n",
       "  <tbody>\n",
       "    <tr>\n",
       "      <th>439</th>\n",
       "      <td>AS14.06</td>\n",
       "      <td>2014-03-26</td>\n",
       "      <td>09:00:00</td>\n",
       "      <td>0.0</td>\n",
       "      <td>16899.220</td>\n",
       "      <td>0.0</td>\n",
       "      <td>0.557971</td>\n",
       "      <td>2710.880</td>\n",
       "      <td>8.0</td>\n",
       "      <td>0.0</td>\n",
       "      <td>...</td>\n",
       "      <td>0.0</td>\n",
       "      <td>0.0</td>\n",
       "      <td>0.0</td>\n",
       "      <td>0.000</td>\n",
       "      <td>0.000</td>\n",
       "      <td>0.000</td>\n",
       "      <td>4280.028000</td>\n",
       "      <td>0.0</td>\n",
       "      <td>1.0</td>\n",
       "      <td>6875.874</td>\n",
       "    </tr>\n",
       "    <tr>\n",
       "      <th>440</th>\n",
       "      <td>AS14.06</td>\n",
       "      <td>2014-03-26</td>\n",
       "      <td>12:00:00</td>\n",
       "      <td>0.0</td>\n",
       "      <td>567.018</td>\n",
       "      <td>0.0</td>\n",
       "      <td>0.401695</td>\n",
       "      <td>30301.808</td>\n",
       "      <td>7.0</td>\n",
       "      <td>0.0</td>\n",
       "      <td>...</td>\n",
       "      <td>0.0</td>\n",
       "      <td>0.0</td>\n",
       "      <td>0.0</td>\n",
       "      <td>0.000</td>\n",
       "      <td>0.000</td>\n",
       "      <td>0.000</td>\n",
       "      <td>36046.271999</td>\n",
       "      <td>0.0</td>\n",
       "      <td>1.0</td>\n",
       "      <td>10097.020</td>\n",
       "    </tr>\n",
       "    <tr>\n",
       "      <th>441</th>\n",
       "      <td>AS14.06</td>\n",
       "      <td>2014-03-26</td>\n",
       "      <td>18:00:00</td>\n",
       "      <td>0.0</td>\n",
       "      <td>9546.459</td>\n",
       "      <td>0.0</td>\n",
       "      <td>7.850000</td>\n",
       "      <td>58406.656</td>\n",
       "      <td>8.0</td>\n",
       "      <td>0.0</td>\n",
       "      <td>...</td>\n",
       "      <td>1.0</td>\n",
       "      <td>0.0</td>\n",
       "      <td>0.0</td>\n",
       "      <td>0.000</td>\n",
       "      <td>35.692</td>\n",
       "      <td>1857.654</td>\n",
       "      <td>186293.942055</td>\n",
       "      <td>4.0</td>\n",
       "      <td>2.0</td>\n",
       "      <td>45443.744</td>\n",
       "    </tr>\n",
       "    <tr>\n",
       "      <th>442</th>\n",
       "      <td>AS14.06</td>\n",
       "      <td>2014-03-26</td>\n",
       "      <td>21:00:00</td>\n",
       "      <td>0.0</td>\n",
       "      <td>340.983</td>\n",
       "      <td>0.0</td>\n",
       "      <td>0.300210</td>\n",
       "      <td>8303.280</td>\n",
       "      <td>9.0</td>\n",
       "      <td>0.0</td>\n",
       "      <td>...</td>\n",
       "      <td>1.0</td>\n",
       "      <td>0.0</td>\n",
       "      <td>0.0</td>\n",
       "      <td>0.000</td>\n",
       "      <td>0.000</td>\n",
       "      <td>6.106</td>\n",
       "      <td>6158.628003</td>\n",
       "      <td>0.0</td>\n",
       "      <td>2.0</td>\n",
       "      <td>1212.363</td>\n",
       "    </tr>\n",
       "    <tr>\n",
       "      <th>443</th>\n",
       "      <td>AS14.06</td>\n",
       "      <td>2014-04-15</td>\n",
       "      <td>09:00:00</td>\n",
       "      <td>0.0</td>\n",
       "      <td>6943.680</td>\n",
       "      <td>0.0</td>\n",
       "      <td>1.907246</td>\n",
       "      <td>11317.740</td>\n",
       "      <td>7.0</td>\n",
       "      <td>0.0</td>\n",
       "      <td>...</td>\n",
       "      <td>-1.0</td>\n",
       "      <td>0.0</td>\n",
       "      <td>0.0</td>\n",
       "      <td>24.112</td>\n",
       "      <td>0.000</td>\n",
       "      <td>663.552</td>\n",
       "      <td>8551.134001</td>\n",
       "      <td>0.0</td>\n",
       "      <td>1.0</td>\n",
       "      <td>24724.512</td>\n",
       "    </tr>\n",
       "  </tbody>\n",
       "</table>\n",
       "<p>5 rows × 22 columns</p>\n",
       "</div>"
      ],
      "text/plain": [
       "    person_id    time_id mood_time_id  appCat.finance  appCat.social  \\\n",
       "439   AS14.06 2014-03-26     09:00:00             0.0      16899.220   \n",
       "440   AS14.06 2014-03-26     12:00:00             0.0        567.018   \n",
       "441   AS14.06 2014-03-26     18:00:00             0.0       9546.459   \n",
       "442   AS14.06 2014-03-26     21:00:00             0.0        340.983   \n",
       "443   AS14.06 2014-04-15     09:00:00             0.0       6943.680   \n",
       "\n",
       "     appCat.utilities  activity  appCat.entertainment  mood  appCat.game  ...  \\\n",
       "439               0.0  0.557971              2710.880   8.0          0.0  ...   \n",
       "440               0.0  0.401695             30301.808   7.0          0.0  ...   \n",
       "441               0.0  7.850000             58406.656   8.0          0.0  ...   \n",
       "442               0.0  0.300210              8303.280   9.0          0.0  ...   \n",
       "443               0.0  1.907246             11317.740   7.0          0.0  ...   \n",
       "\n",
       "     circumplex.arousal  appCat.unknown  sms  appCat.weather  appCat.office  \\\n",
       "439                 0.0             0.0  0.0           0.000          0.000   \n",
       "440                 0.0             0.0  0.0           0.000          0.000   \n",
       "441                 1.0             0.0  0.0           0.000         35.692   \n",
       "442                 1.0             0.0  0.0           0.000          0.000   \n",
       "443                -1.0             0.0  0.0          24.112          0.000   \n",
       "\n",
       "     appCat.builtin         screen  call  circumplex.valence  \\\n",
       "439           0.000    4280.028000   0.0                 1.0   \n",
       "440           0.000   36046.271999   0.0                 1.0   \n",
       "441        1857.654  186293.942055   4.0                 2.0   \n",
       "442           6.106    6158.628003   0.0                 2.0   \n",
       "443         663.552    8551.134001   0.0                 1.0   \n",
       "\n",
       "     appCat.communication  \n",
       "439              6875.874  \n",
       "440             10097.020  \n",
       "441             45443.744  \n",
       "442              1212.363  \n",
       "443             24724.512  \n",
       "\n",
       "[5 rows x 22 columns]"
      ]
     },
     "execution_count": 210,
     "metadata": {},
     "output_type": "execute_result"
    }
   ],
   "source": [
    "persons_id = list(df['person_id'].unique())\n",
    "data_id = df[df['person_id']==persons_id[2]]\n",
    "data_id.head()"
   ]
  },
  {
   "cell_type": "code",
   "execution_count": 211,
   "metadata": {},
   "outputs": [],
   "source": [
    "# split to target and x\n",
    "# x = df.loc[:, df.columns != 'mood_time_id', 'time_id']\n",
    "x = df.drop(['mood_time_id', 'time_id', 'person_id', 'mood'], axis=1)\n",
    "t = df[['mood']]"
   ]
  },
  {
   "cell_type": "code",
   "execution_count": 212,
   "metadata": {},
   "outputs": [],
   "source": [
    "# preprocessing\n",
    "from sklearn import preprocessing\n",
    "\n",
    "x = x.values #returns a numpy array\n",
    "min_max_scaler = preprocessing.MinMaxScaler()\n",
    "x_scaled = min_max_scaler.fit_transform(x)\n",
    "\n",
    "x_scaled = pd.DataFrame(x_scaled)"
   ]
  },
  {
   "cell_type": "markdown",
   "metadata": {},
   "source": [
    "# DecisionTreeClassifier"
   ]
  },
  {
   "cell_type": "code",
   "execution_count": 213,
   "metadata": {},
   "outputs": [],
   "source": [
    "x_scaled.isnull().sum().sum()\n",
    "x_scaled = x_scaled.fillna(0)"
   ]
  },
  {
   "cell_type": "code",
   "execution_count": 214,
   "metadata": {},
   "outputs": [],
   "source": [
    "from sklearn.model_selection import train_test_split\n",
    "X_train, X_test, y_train, y_test = train_test_split(x_scaled, t, test_size=0.2, random_state=42)"
   ]
  },
  {
   "cell_type": "code",
   "execution_count": 215,
   "metadata": {},
   "outputs": [
    {
     "data": {
      "text/plain": [
       "DecisionTreeClassifier(class_weight=None, criterion='gini', max_depth=None,\n",
       "            max_features=None, max_leaf_nodes=None,\n",
       "            min_impurity_decrease=0.0, min_impurity_split=None,\n",
       "            min_samples_leaf=1, min_samples_split=2,\n",
       "            min_weight_fraction_leaf=0.0, presort=False, random_state=None,\n",
       "            splitter='best')"
      ]
     },
     "execution_count": 215,
     "metadata": {},
     "output_type": "execute_result"
    }
   ],
   "source": [
    "# Import the classifier from sklearn\n",
    "from sklearn.tree import DecisionTreeClassifier\n",
    "\n",
    "# TODO: Define the classifier, and fit it to the data\n",
    "model = DecisionTreeClassifier()\n",
    "model.fit(X_train, y_train)"
   ]
  },
  {
   "cell_type": "code",
   "execution_count": 216,
   "metadata": {},
   "outputs": [
    {
     "name": "stdout",
     "output_type": "stream",
     "text": [
      "The training accuracy is 0.9572251773049646\n",
      "The test accuracy is 0.4508414526129318\n"
     ]
    }
   ],
   "source": [
    "# Making predictions\n",
    "y_train_pred = model.predict(X_train)\n",
    "y_test_pred = model.predict(X_test)\n",
    "\n",
    "# Calculate the accuracy\n",
    "from sklearn.metrics import accuracy_score\n",
    "train_accuracy = accuracy_score(y_train, y_train_pred)\n",
    "test_accuracy = accuracy_score(y_test, y_test_pred)\n",
    "print('The training accuracy is', train_accuracy)\n",
    "print('The test accuracy is', test_accuracy)"
   ]
  },
  {
   "cell_type": "code",
   "execution_count": 217,
   "metadata": {},
   "outputs": [
    {
     "name": "stdout",
     "output_type": "stream",
     "text": [
      "The training accuracy is 0.6028368794326241\n",
      "The test accuracy is 0.5465013286093888\n"
     ]
    }
   ],
   "source": [
    "### improving the model\n",
    "\n",
    "# Training the model\n",
    "model = DecisionTreeClassifier(max_depth=13, min_samples_leaf=20, min_samples_split=80)\n",
    "model.fit(X_train, y_train)\n",
    "\n",
    "# Making predictions\n",
    "y_train_pred = model.predict(X_train)\n",
    "y_test_pred = model.predict(X_test)\n",
    "\n",
    "# Calculating accuracies\n",
    "train_accuracy = accuracy_score(y_train, y_train_pred)\n",
    "test_accuracy = accuracy_score(y_test, y_test_pred)\n",
    "\n",
    "print('The training accuracy is', train_accuracy)\n",
    "print('The test accuracy is', test_accuracy)"
   ]
  },
  {
   "cell_type": "markdown",
   "metadata": {},
   "source": [
    "# naive_bayes"
   ]
  },
  {
   "cell_type": "code",
   "execution_count": 218,
   "metadata": {},
   "outputs": [
    {
     "name": "stderr",
     "output_type": "stream",
     "text": [
      "/Users/johngatopoulos/anaconda3/lib/python3.7/site-packages/sklearn/utils/validation.py:761: DataConversionWarning: A column-vector y was passed when a 1d array was expected. Please change the shape of y to (n_samples, ), for example using ravel().\n",
      "  y = column_or_1d(y, warn=True)\n"
     ]
    },
    {
     "data": {
      "text/plain": [
       "MultinomialNB(alpha=1.0, class_prior=None, fit_prior=True)"
      ]
     },
     "execution_count": 218,
     "metadata": {},
     "output_type": "execute_result"
    }
   ],
   "source": [
    "from sklearn.naive_bayes import MultinomialNB\n",
    "naive_bayes = MultinomialNB()\n",
    "naive_bayes.fit(X_train, y_train)"
   ]
  },
  {
   "cell_type": "code",
   "execution_count": 219,
   "metadata": {},
   "outputs": [],
   "source": [
    "predictions = naive_bayes.predict(X_test)"
   ]
  },
  {
   "cell_type": "code",
   "execution_count": 220,
   "metadata": {},
   "outputs": [
    {
     "name": "stdout",
     "output_type": "stream",
     "text": [
      "Accuracy score:  0.44729849424269263\n",
      "Precision score:  0.44729849424269263\n",
      "Precision score:  [0.         0.         0.         0.         0.         0.\n",
      " 0.44769504 0.         0.         0.         0.         0.\n",
      " 0.        ]\n",
      "Recall score:  0.44729849424269263\n",
      "Precision score:  [0.         0.         0.         0.         0.         0.\n",
      " 0.99802372 0.         0.         0.         0.         0.\n",
      " 0.        ]\n",
      "F1 score:  0.44729849424269263\n"
     ]
    },
    {
     "name": "stderr",
     "output_type": "stream",
     "text": [
      "/Users/johngatopoulos/anaconda3/lib/python3.7/site-packages/sklearn/metrics/classification.py:1143: UndefinedMetricWarning: Precision is ill-defined and being set to 0.0 in labels with no predicted samples.\n",
      "  'precision', 'predicted', average, warn_for)\n"
     ]
    }
   ],
   "source": [
    "from sklearn.metrics import accuracy_score, precision_score, recall_score, f1_score\n",
    "print('Accuracy score: ', format(accuracy_score(y_test, predictions)))\n",
    "print('Precision score: ', format(precision_score(y_test.values, predictions, average='micro')))\n",
    "print('Precision score: ', format(precision_score(y_test.values, predictions, average=None)))\n",
    "print('Recall score: ', format(recall_score(y_test, predictions, average='micro')))\n",
    "print('Precision score: ', format(recall_score(y_test.values, predictions, average=None)))\n",
    "print('F1 score: ', format(f1_score(y_test, predictions, average='micro')))"
   ]
  },
  {
   "cell_type": "markdown",
   "metadata": {},
   "source": [
    "# BaggingClassifier, RandomForestClassifier, AdaBoostClassifier"
   ]
  },
  {
   "cell_type": "code",
   "execution_count": 221,
   "metadata": {},
   "outputs": [],
   "source": [
    "# Import the Bagging, RandomForest, and AdaBoost Classifier\n",
    "from sklearn.ensemble import BaggingClassifier, RandomForestClassifier, AdaBoostClassifier"
   ]
  },
  {
   "cell_type": "code",
   "execution_count": 222,
   "metadata": {},
   "outputs": [],
   "source": [
    "# Instantiate a BaggingClassifier with:\n",
    "# 200 weak learners (n_estimators) and everything else as default values\n",
    "bag_mod = BaggingClassifier(n_estimators=200)\n",
    "\n",
    "\n",
    "# Instantiate a RandomForestClassifier with:\n",
    "# 200 weak learners (n_estimators) and everything else as default values\n",
    "rf_mod = RandomForestClassifier(n_estimators=200)\n",
    "\n",
    "# Instantiate an a AdaBoostClassifier with:\n",
    "# With 300 weak learners (n_estimators) and a learning_rate of 0.2\n",
    "ada_mod = AdaBoostClassifier(n_estimators=300, learning_rate=0.2)"
   ]
  },
  {
   "cell_type": "code",
   "execution_count": 223,
   "metadata": {},
   "outputs": [
    {
     "name": "stderr",
     "output_type": "stream",
     "text": [
      "/Users/johngatopoulos/anaconda3/lib/python3.7/site-packages/sklearn/ensemble/bagging.py:621: DataConversionWarning: A column-vector y was passed when a 1d array was expected. Please change the shape of y to (n_samples, ), for example using ravel().\n",
      "  y = column_or_1d(y, warn=True)\n",
      "/Users/johngatopoulos/anaconda3/lib/python3.7/site-packages/ipykernel_launcher.py:5: DataConversionWarning: A column-vector y was passed when a 1d array was expected. Please change the shape of y to (n_samples,), for example using ravel().\n",
      "  \"\"\"\n",
      "/Users/johngatopoulos/anaconda3/lib/python3.7/site-packages/sklearn/utils/validation.py:761: DataConversionWarning: A column-vector y was passed when a 1d array was expected. Please change the shape of y to (n_samples, ), for example using ravel().\n",
      "  y = column_or_1d(y, warn=True)\n"
     ]
    },
    {
     "data": {
      "text/plain": [
       "AdaBoostClassifier(algorithm='SAMME.R', base_estimator=None,\n",
       "          learning_rate=0.2, n_estimators=300, random_state=None)"
      ]
     },
     "execution_count": 223,
     "metadata": {},
     "output_type": "execute_result"
    }
   ],
   "source": [
    "# Fit your BaggingClassifier to the training data\n",
    "bag_mod.fit(X_train, y_train)\n",
    "\n",
    "# Fit your RandomForestClassifier to the training data\n",
    "rf_mod.fit(X_train, y_train)\n",
    "\n",
    "# Fit your AdaBoostClassifier to the training data\n",
    "ada_mod.fit(X_train, y_train)\n",
    "\n"
   ]
  },
  {
   "cell_type": "code",
   "execution_count": 224,
   "metadata": {},
   "outputs": [],
   "source": [
    "# Predict using BaggingClassifier on the test data\n",
    "bag_preds = bag_mod.predict(X_test) \n",
    "\n",
    "# Predict using RandomForestClassifier on the test data\n",
    "rf_preds = rf_mod.predict(X_test)\n",
    "\n",
    "# Predict using AdaBoostClassifier on the test data\n",
    "ada_preds = ada_mod.predict(X_test)"
   ]
  },
  {
   "cell_type": "code",
   "execution_count": 227,
   "metadata": {},
   "outputs": [],
   "source": [
    "def print_metrics(y_true, preds, model_name=None):\n",
    "    if model_name == None:\n",
    "        print('Accuracy score: ', format(accuracy_score(y_true, preds)))\n",
    "        print('Precision score: ', format(precision_score(y_true, preds, average='micro')))\n",
    "        print('Recall score: ', format(recall_score(y_true, preds, average='micro')))\n",
    "        print('F1 score: ', format(f1_score(y_true, preds, average='micro')))\n",
    "        print('\\n\\n')\n",
    "    \n",
    "    else:\n",
    "        print('Accuracy score for ' + model_name + ' :' , format(accuracy_score(y_true, preds)))\n",
    "        print('Precision score ' + model_name + ' :', format(precision_score(y_true, preds, average='micro')))\n",
    "        print('Recall score ' + model_name + ' :', format(recall_score(y_true, preds, average='micro')))\n",
    "        print('F1 score ' + model_name + ' :', format(f1_score(y_true, preds, average='micro')))\n",
    "        print('\\n\\n')"
   ]
  },
  {
   "cell_type": "code",
   "execution_count": 228,
   "metadata": {},
   "outputs": [
    {
     "name": "stdout",
     "output_type": "stream",
     "text": [
      "Accuracy score for bagging : 0.5394154118689105\n",
      "Precision score bagging : 0.5394154118689105\n",
      "Recall score bagging : 0.5394154118689105\n",
      "F1 score bagging : 0.5394154118689105\n",
      "\n",
      "\n",
      "\n",
      "Accuracy score for random forest : 0.5225863596102746\n",
      "Precision score random forest : 0.5225863596102746\n",
      "Recall score random forest : 0.5225863596102746\n",
      "F1 score random forest : 0.5225863596102746\n",
      "\n",
      "\n",
      "\n",
      "Accuracy score for adaboost : 0.31886625332152346\n",
      "Precision score adaboost : 0.31886625332152346\n",
      "Recall score adaboost : 0.31886625332152346\n",
      "F1 score adaboost : 0.31886625332152346\n",
      "\n",
      "\n",
      "\n",
      "Accuracy score for naive bayes : 0.44729849424269263\n",
      "Precision score naive bayes : 0.44729849424269263\n",
      "Recall score naive bayes : 0.44729849424269263\n",
      "F1 score naive bayes : 0.44729849424269263\n",
      "\n",
      "\n",
      "\n"
     ]
    }
   ],
   "source": [
    "# Print Bagging scores\n",
    "print_metrics(y_test, bag_preds, 'bagging')\n",
    "\n",
    "# Print Random Forest scores\n",
    "print_metrics(y_test, rf_preds, 'random forest')\n",
    "\n",
    "# Print AdaBoost scores\n",
    "print_metrics(y_test, ada_preds, 'adaboost')"
   ]
  },
  {
   "cell_type": "code",
   "execution_count": null,
   "metadata": {},
   "outputs": [],
   "source": []
  }
 ],
 "metadata": {
  "kernelspec": {
   "display_name": "Python 3",
   "language": "python",
   "name": "python3"
  },
  "language_info": {
   "codemirror_mode": {
    "name": "ipython",
    "version": 3
   },
   "file_extension": ".py",
   "mimetype": "text/x-python",
   "name": "python",
   "nbconvert_exporter": "python",
   "pygments_lexer": "ipython3",
   "version": "3.7.2"
  }
 },
 "nbformat": 4,
 "nbformat_minor": 2
}